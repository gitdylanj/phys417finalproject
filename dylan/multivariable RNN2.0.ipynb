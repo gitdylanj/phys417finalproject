{
 "cells": [
  {
   "attachments": {},
   "cell_type": "markdown",
   "metadata": {},
   "source": [
    "# Final project with multiple features"
   ]
  },
  {
   "attachments": {},
   "cell_type": "markdown",
   "metadata": {},
   "source": [
    "\n",
    "## Prepare Data"
   ]
  },
  {
   "cell_type": "code",
   "execution_count": 1,
   "metadata": {},
   "outputs": [
    {
     "name": "stdout",
     "output_type": "stream",
     "text": [
      "Requirement already satisfied: meteostat in /usr/local/python/3.10.4/lib/python3.10/site-packages (1.6.5)\n",
      "Requirement already satisfied: pandas>=1.1 in /home/codespace/.local/lib/python3.10/site-packages (from meteostat) (2.0.1)\n",
      "Requirement already satisfied: pytz in /home/codespace/.local/lib/python3.10/site-packages (from meteostat) (2023.3)\n",
      "Requirement already satisfied: numpy in /home/codespace/.local/lib/python3.10/site-packages (from meteostat) (1.24.3)\n",
      "Requirement already satisfied: python-dateutil>=2.8.2 in /home/codespace/.local/lib/python3.10/site-packages (from pandas>=1.1->meteostat) (2.8.2)\n",
      "Requirement already satisfied: tzdata>=2022.1 in /home/codespace/.local/lib/python3.10/site-packages (from pandas>=1.1->meteostat) (2023.3)\n",
      "Requirement already satisfied: six>=1.5 in /home/codespace/.local/lib/python3.10/site-packages (from python-dateutil>=2.8.2->pandas>=1.1->meteostat) (1.16.0)\n",
      "\n",
      "\u001b[1m[\u001b[0m\u001b[34;49mnotice\u001b[0m\u001b[1;39;49m]\u001b[0m\u001b[39;49m A new release of pip is available: \u001b[0m\u001b[31;49m23.1.1\u001b[0m\u001b[39;49m -> \u001b[0m\u001b[32;49m23.1.2\u001b[0m\n",
      "\u001b[1m[\u001b[0m\u001b[34;49mnotice\u001b[0m\u001b[1;39;49m]\u001b[0m\u001b[39;49m To update, run: \u001b[0m\u001b[32;49mpython -m pip install --upgrade pip\u001b[0m\n"
     ]
    }
   ],
   "source": [
    "!pip install meteostat"
   ]
  },
  {
   "cell_type": "code",
   "execution_count": 2,
   "metadata": {},
   "outputs": [],
   "source": [
    "%matplotlib inline\n",
    "\n",
    "import numpy as np\n",
    "import matplotlib.pyplot as plt\n",
    "import pandas as pd\n",
    "import seaborn as sns\n",
    "from sklearn.preprocessing import StandardScaler\n",
    "import datetime\n",
    "import pandas as pd\n",
    "from sklearn.preprocessing import StandardScaler\n",
    "from meteostat import Point, Daily, Hourly, Stations\n",
    "import torch\n",
    "\n"
   ]
  },
  {
   "cell_type": "code",
   "execution_count": 3,
   "metadata": {},
   "outputs": [
    {
     "name": "stdout",
     "output_type": "stream",
     "text": [
      "<class 'pandas.core.frame.DataFrame'>\n",
      "DatetimeIndex: 87673 entries, 2012-01-01 00:00:00 to 2022-01-01 00:00:00\n",
      "Freq: H\n",
      "Data columns (total 11 columns):\n",
      " #   Column  Non-Null Count  Dtype  \n",
      "---  ------  --------------  -----  \n",
      " 0   temp    87673 non-null  float64\n",
      " 1   dwpt    87673 non-null  float64\n",
      " 2   rhum    87673 non-null  float64\n",
      " 3   prcp    87098 non-null  float64\n",
      " 4   snow    0 non-null      float64\n",
      " 5   wdir    86382 non-null  float64\n",
      " 6   wspd    87673 non-null  float64\n",
      " 7   wpgt    0 non-null      float64\n",
      " 8   pres    87672 non-null  float64\n",
      " 9   tsun    0 non-null      float64\n",
      " 10  coco    34425 non-null  float64\n",
      "dtypes: float64(11)\n",
      "memory usage: 8.0 MB\n"
     ]
    }
   ],
   "source": [
    "\n",
    "lat = 47.6\n",
    "lon = -122.3\n",
    "\n",
    "# Define start and end times\n",
    "start = datetime.datetime(2012, 1, 1)\n",
    "end = datetime.datetime(2022, 1, 1)\n",
    "\n",
    "data = Hourly(Point(lat,lon), start=start, end=end).fetch()\n",
    "\n",
    "# Find how much data we have\n",
    "data.info()"
   ]
  },
  {
   "cell_type": "code",
   "execution_count": 4,
   "metadata": {},
   "outputs": [
    {
     "name": "stdout",
     "output_type": "stream",
     "text": [
      "temp    False\n",
      "dwpt    False\n",
      "prcp     True\n",
      "wspd    False\n",
      "wdir     True\n",
      "pres     True\n",
      "dtype: bool\n",
      "temp    False\n",
      "dwpt    False\n",
      "prcp    False\n",
      "wspd    False\n",
      "wdir    False\n",
      "pres    False\n",
      "dtype: bool\n"
     ]
    },
    {
     "name": "stderr",
     "output_type": "stream",
     "text": [
      "SettingWithCopyWarning: \n",
      "A value is trying to be set on a copy of a slice from a DataFrame\n",
      "\n",
      "See the caveats in the documentation: https://pandas.pydata.org/pandas-docs/stable/user_guide/indexing.html#returning-a-view-versus-a-copy\n",
      "SettingWithCopyWarning: \n",
      "A value is trying to be set on a copy of a slice from a DataFrame\n",
      "\n",
      "See the caveats in the documentation: https://pandas.pydata.org/pandas-docs/stable/user_guide/indexing.html#returning-a-view-versus-a-copy\n",
      "SettingWithCopyWarning: \n",
      "A value is trying to be set on a copy of a slice from a DataFrame\n",
      "\n",
      "See the caveats in the documentation: https://pandas.pydata.org/pandas-docs/stable/user_guide/indexing.html#returning-a-view-versus-a-copy\n",
      "SettingWithCopyWarning: \n",
      "A value is trying to be set on a copy of a slice from a DataFrame\n",
      "\n",
      "See the caveats in the documentation: https://pandas.pydata.org/pandas-docs/stable/user_guide/indexing.html#returning-a-view-versus-a-copy\n",
      "SettingWithCopyWarning: \n",
      "A value is trying to be set on a copy of a slice from a DataFrame\n",
      "\n",
      "See the caveats in the documentation: https://pandas.pydata.org/pandas-docs/stable/user_guide/indexing.html#returning-a-view-versus-a-copy\n",
      "SettingWithCopyWarning: \n",
      "A value is trying to be set on a copy of a slice from a DataFrame\n",
      "\n",
      "See the caveats in the documentation: https://pandas.pydata.org/pandas-docs/stable/user_guide/indexing.html#returning-a-view-versus-a-copy\n"
     ]
    }
   ],
   "source": [
    "# Extract all relevant channels and impute and missing values\n",
    "data_cleaned = data[['temp', 'dwpt', 'prcp', 'wspd', 'wdir', 'pres']]\n",
    "print(data_cleaned.isna().any())\n",
    "\n",
    "# Replace NaN values with 0 for 'prcp' feature\n",
    "data_cleaned['prcp'].fillna(0, inplace=True)\n",
    "\n",
    "# Use linear interpolation for other features\n",
    "data_cleaned['temp'].interpolate(method='linear', inplace=True)\n",
    "data_cleaned['dwpt'].interpolate(method='linear', inplace=True)\n",
    "data_cleaned['wspd'].interpolate(method='linear', inplace=True)\n",
    "data_cleaned['wdir'].interpolate(method='linear', inplace=True)\n",
    "data_cleaned['pres'].interpolate(method='linear', inplace=True)\n",
    "\n",
    "print(data_cleaned.isna().any())\n"
   ]
  },
  {
   "cell_type": "code",
   "execution_count": 5,
   "metadata": {},
   "outputs": [],
   "source": [
    "def transform_datetime_index(dates):\n",
    "    transformed_dates = []\n",
    "\n",
    "    for date_str in dates:\n",
    "        hour = date_str.hour\n",
    "        day = date_str.day\n",
    "        month = date_str.month\n",
    "        year = date_str.year\n",
    "        transformed_dates.append([hour, day, month, year])\n",
    "\n",
    "    return transformed_dates\n",
    "\n",
    "def combine_arrays(A1, A2):\n",
    "    if len(A1)==len(A2):\n",
    "        A = []\n",
    "        for i in range(len(A1)):\n",
    "            combined_element = np.append(A1[i], A2[i])\n",
    "            A.append(combined_element)\n",
    "        return A\n",
    "    elif len(A1)!=len(A2):\n",
    "        print('Different dates lenght than data')\n",
    "        print(len(A1)-len(A2))\n",
    "\n",
    "dates=data_cleaned.index\n",
    "transformed_dates = np.array(transform_datetime_index(dates)).astype('float32')\n"
   ]
  },
  {
   "cell_type": "code",
   "execution_count": 6,
   "metadata": {},
   "outputs": [
    {
     "data": {
      "text/plain": [
       "6"
      ]
     },
     "execution_count": 6,
     "metadata": {},
     "output_type": "execute_result"
    }
   ],
   "source": [
    "timeseries = data_cleaned.values.astype('float32')\n",
    "\n",
    "mea=np.mean(timeseries[:,0])\n",
    "sig=np.std(timeseries[:,0])\n",
    "\n",
    "scaler = StandardScaler()\n",
    "\n",
    "scaler.fit(timeseries)\n",
    "\n",
    "timeseries=scaler.transform(timeseries)\n",
    "\n",
    "#With this next line (executed) we can include time into the timeseries\n",
    "#timeseries=np.squeeze(combine_arrays(timeseries,transformed_dates)).astype('float32')\n",
    "\n",
    "# train-test split for time series\n",
    "train_size = int(len(timeseries) * 0.67)\n",
    "test_size = len(timeseries) - train_size\n",
    "train, test = timeseries[:train_size], timeseries[train_size:]\n",
    "\n",
    "num_features=timeseries.shape[1]\n",
    "\n",
    "num_features"
   ]
  },
  {
   "cell_type": "code",
   "execution_count": 7,
   "metadata": {},
   "outputs": [],
   "source": [
    "def create_dataset(dataset, lookback):\n",
    "    X, y = [], []\n",
    "    for i in range(len(dataset) - lookback):\n",
    "        features = dataset[i:i+lookback]\n",
    "        target = dataset[i+1:i+lookback+1]\n",
    "        X.append(features)\n",
    "        y.append(target)\n",
    "    return torch.tensor(X), torch.tensor(y)"
   ]
  },
  {
   "attachments": {},
   "cell_type": "markdown",
   "metadata": {},
   "source": [
    "## Create model"
   ]
  },
  {
   "cell_type": "code",
   "execution_count": 8,
   "metadata": {},
   "outputs": [
    {
     "name": "stderr",
     "output_type": "stream",
     "text": [
      "UserWarning: Creating a tensor from a list of numpy.ndarrays is extremely slow. Please consider converting the list to a single numpy.ndarray with numpy.array() before converting to a tensor. (Triggered internally at ../torch/csrc/utils/tensor_new.cpp:245.)\n"
     ]
    }
   ],
   "source": [
    "lookback = 24\n",
    "X_train, y_train = create_dataset(train, lookback=lookback)\n",
    "X_test, y_test = create_dataset(test, lookback=lookback)\n"
   ]
  },
  {
   "cell_type": "code",
   "execution_count": 9,
   "metadata": {},
   "outputs": [],
   "source": [
    "class TempModel(torch.nn.Module):\n",
    "    def __init__(self):\n",
    "        super().__init__()\n",
    "        self.lstm1 = torch.nn.LSTM(input_size=num_features, hidden_size=50, num_layers=1, batch_first=True)\n",
    "        self.linear = torch.nn.Linear(50, num_features)\n",
    "        self.lstm2 = torch.nn.LSTM(25, num_features)\n",
    "        \n",
    "    def forward(self, x):\n",
    "        x, _ = self.lstm1(x)\n",
    "        x = self.linear(x)\n",
    "        return x"
   ]
  },
  {
   "cell_type": "code",
   "execution_count": 10,
   "metadata": {},
   "outputs": [],
   "source": [
    "model = TempModel()\n",
    "optimizer = torch.optim.Adam(model.parameters())\n",
    "loss_fn = torch.nn.MSELoss()\n",
    "loader = torch.utils.data.DataLoader(torch.utils.data.TensorDataset(X_train, y_train), shuffle=True, batch_size=512)\n",
    "n_epochs = 10\n"
   ]
  },
  {
   "attachments": {},
   "cell_type": "markdown",
   "metadata": {},
   "source": [
    "## Train"
   ]
  },
  {
   "cell_type": "code",
   "execution_count": 11,
   "metadata": {},
   "outputs": [
    {
     "name": "stdout",
     "output_type": "stream",
     "text": [
      "Epoch 0: train RMSE 0.5861, test RMSE 0.6202\n",
      "Epoch 1: train RMSE 0.5361, test RMSE 0.5746\n",
      "Epoch 2: train RMSE 0.5258, test RMSE 0.5670\n",
      "Epoch 3: train RMSE 0.5201, test RMSE 0.5635\n",
      "Epoch 4: train RMSE 0.5164, test RMSE 0.5616\n",
      "Epoch 5: train RMSE 0.5135, test RMSE 0.5597\n",
      "Epoch 6: train RMSE 0.5113, test RMSE 0.5585\n",
      "Epoch 7: train RMSE 0.5098, test RMSE 0.5613\n",
      "Epoch 8: train RMSE 0.5081, test RMSE 0.5597\n",
      "Epoch 9: train RMSE 0.5066, test RMSE 0.5602\n"
     ]
    }
   ],
   "source": [
    "for epoch in range(n_epochs):\n",
    "    model.train()\n",
    "    for X_batch, y_batch in loader:\n",
    "        y_pred = model(X_batch)\n",
    "        loss = loss_fn(y_pred, y_batch)\n",
    "        optimizer.zero_grad()\n",
    "        loss.backward()\n",
    "        optimizer.step()\n",
    "\n",
    "    model.eval()\n",
    "    with torch.no_grad():\n",
    "        y_pred = model(X_train)\n",
    "        train_rmse = np.sqrt(loss_fn(y_pred, y_train))\n",
    "        y_pred = model(X_test)\n",
    "        test_rmse = np.sqrt(loss_fn(y_pred, y_test))\n",
    "    print(\"Epoch %d: train RMSE %.4f, test RMSE %.4f\" % (epoch, train_rmse, test_rmse))\n"
   ]
  },
  {
   "attachments": {},
   "cell_type": "markdown",
   "metadata": {},
   "source": [
    "## Evaluate"
   ]
  },
  {
   "cell_type": "code",
   "execution_count": 12,
   "metadata": {},
   "outputs": [],
   "source": [
    "with torch.no_grad():\n",
    "    # shift train predictions for plotting\n",
    "    train_plot = np.ones_like(timeseries) * np.nan\n",
    "    y_pred = model(X_train)\n",
    "    y_pred = y_pred[:, -1, :]\n",
    "    train_plot[lookback:train_size] = model(X_train)[:, -1, :]\n",
    "    # shift test predictions for plotting\n",
    "    test_plot = np.ones_like(timeseries) * np.nan\n",
    "    test_plot[train_size+lookback:len(timeseries)] = model(X_test)[:, -1, :]"
   ]
  },
  {
   "cell_type": "code",
   "execution_count": 13,
   "metadata": {},
   "outputs": [
    {
     "data": {
      "image/png": "[encoded data removed]",
      "text/plain": [
       "<Figure size 640x480 with 1 Axes>"
      ]
     },
     "metadata": {},
     "output_type": "display_data"
    }
   ],
   "source": [
    "# plot\n",
    "plt.plot(timeseries[:,0]*sig+mea)\n",
    "plt.plot(train_plot[:,0]*sig+mea, c='r')\n",
    "plt.plot(test_plot[:,0]*sig+mea, c='g')\n",
    "plt.show()"
   ]
  },
  {
   "attachments": {},
   "cell_type": "markdown",
   "metadata": {},
   "source": [
    "## Predicting n values"
   ]
  },
  {
   "cell_type": "code",
   "execution_count": 14,
   "metadata": {},
   "outputs": [],
   "source": [
    "n=24\n",
    "with torch.no_grad():\n",
    "    x_test=timeseries[-(lookback+1):-1]\n",
    "    xt_test=torch.from_numpy(x_test)\n",
    "    prediction=model(xt_test)\n",
    "    totalarray=torch.zeros(lookback+n,num_features)\n",
    "\n",
    "    totalarray[0:lookback]=xt_test\n",
    "\n",
    "    for i in range(n):\n",
    "\n",
    "        froz = int((totalarray == 0).all(dim=1).nonzero(as_tuple=False)[0])\n",
    "\n",
    "        next_value=model(totalarray[int(froz-lookback):int(froz)])\n",
    "\n",
    "        totalarray[froz]=next_value[0]\n",
    "\n",
    "test_price=totalarray[0:lookback,0].detach().numpy()\n",
    "\n",
    "price_prediction=totalarray[lookback:-1,0].detach().numpy()\n",
    "\n",
    "middle=np.array([test_price[-1],price_prediction[0]])\n"
   ]
  },
  {
   "cell_type": "code",
   "execution_count": 15,
   "metadata": {},
   "outputs": [
    {
     "data": {
      "image/png": "[encoded data removed]",
      "text/plain": [
       "<Figure size 640x480 with 1 Axes>"
      ]
     },
     "metadata": {},
     "output_type": "display_data"
    }
   ],
   "source": [
    "plt.plot((test_price)*sig+mea, c='r', linewidth=2)\n",
    "plt.plot(range(lookback-1, lookback + len(middle)-1), (middle)*sig+mea, color='g', linewidth=2)\n",
    "plt.plot(range(lookback, lookback + len(price_prediction)), (price_prediction)*sig+mea, color='g', linewidth=2)\n",
    "plt.grid()"
   ]
  },
  {
   "cell_type": "code",
   "execution_count": null,
   "metadata": {},
   "outputs": [],
   "source": [
    "n=24\n",
    "with torch.no_grad():\n",
    "    x_test=timeseries[-(lookback+1)*2:-(lookback+2)]\n",
    "    xt_test=torch.from_numpy(x_test)\n",
    "    prediction=model(xt_test)\n",
    "    totalarray=torch.zeros(lookback+n,num_features)\n",
    "\n",
    "    totalarray[0:lookback]=xt_test\n",
    "\n",
    "    for i in range(n):\n",
    "\n",
    "        froz = int((totalarray == 0).all(dim=1).nonzero(as_tuple=False)[0])\n",
    "\n",
    "        next_value=model(totalarray[int(froz-lookback):int(froz)])\n",
    "\n",
    "        totalarray[froz]=next_value[0]\n",
    "\n",
    "test_price=totalarray[0:lookback,0].detach().numpy()\n",
    "\n",
    "price_prediction=totalarray[lookback:-1,0].detach().numpy()\n",
    "\n",
    "middle=np.array([test_price[-1],price_prediction[0]])\n"
   ]
  },
  {
   "cell_type": "code",
   "execution_count": null,
   "metadata": {},
   "outputs": [],
   "source": [
    "plt.plot((test_price)*sig+mea, c='r', linewidth=3)\n",
    "plt.plot(range(lookback-1, lookback + len(middle)-1), (middle)*sig+mea, color='g', linewidth=3)\n",
    "plt.plot(range(lookback, lookback + len(price_prediction)), (price_prediction)*sig+mea, color='g', linewidth=3)\n",
    "plt.plot(mea+sig*timeseries[:,0][-(lookback+1)*2:-1], linewidth=1)\n",
    "plt.grid()"
   ]
  }
 ],
 "metadata": {
  "kernelspec": {
   "display_name": "Python 3 (ipykernel)",
   "language": "python",
   "name": "python3"
  },
  "language_info": {
   "codemirror_mode": {
    "name": "ipython",
    "version": 3
   },
   "file_extension": ".py",
   "mimetype": "text/x-python",
   "name": "python",
   "nbconvert_exporter": "python",
   "pygments_lexer": "ipython3",
   "version": "3.10.4"
  },
  "orig_nbformat": 4
 },
 "nbformat": 4,
 "nbformat_minor": 2
}
