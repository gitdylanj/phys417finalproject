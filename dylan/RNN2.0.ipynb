{
 "cells": [
  {
   "cell_type": "code",
   "execution_count": 102,
   "metadata": {},
   "outputs": [],
   "source": [
    "%matplotlib inline\n",
    "\n",
    "import numpy as np\n",
    "import matplotlib.pyplot as plt\n",
    "import pandas as pd\n",
    "import seaborn as sns\n",
    "from sklearn.preprocessing import StandardScaler\n",
    "import datetime\n",
    "import pandas as pd\n",
    "from sklearn.preprocessing import StandardScaler\n",
    "from meteostat import Point, Daily, Hourly, Stations\n",
    "import torch\n",
    "\n"
   ]
  },
  {
   "cell_type": "code",
   "execution_count": 103,
   "metadata": {},
   "outputs": [
    {
     "name": "stdout",
     "output_type": "stream",
     "text": [
      "<class 'pandas.core.frame.DataFrame'>\n",
      "DatetimeIndex: 87673 entries, 2012-01-01 00:00:00 to 2022-01-01 00:00:00\n",
      "Freq: H\n",
      "Data columns (total 11 columns):\n",
      " #   Column  Non-Null Count  Dtype  \n",
      "---  ------  --------------  -----  \n",
      " 0   temp    87673 non-null  float64\n",
      " 1   dwpt    87673 non-null  float64\n",
      " 2   rhum    87673 non-null  float64\n",
      " 3   prcp    87098 non-null  float64\n",
      " 4   snow    0 non-null      float64\n",
      " 5   wdir    86382 non-null  float64\n",
      " 6   wspd    87673 non-null  float64\n",
      " 7   wpgt    0 non-null      float64\n",
      " 8   pres    87672 non-null  float64\n",
      " 9   tsun    0 non-null      float64\n",
      " 10  coco    34425 non-null  float64\n",
      "dtypes: float64(11)\n",
      "memory usage: 8.0 MB\n"
     ]
    }
   ],
   "source": [
    "\n",
    "lat = 47.6\n",
    "lon = -122.3\n",
    "\n",
    "# Define start and end times\n",
    "start = datetime.datetime(2012, 1, 1)\n",
    "end = datetime.datetime(2022, 1, 1)\n",
    "\n",
    "data = Hourly(Point(lat,lon), start=start, end=end).fetch()\n",
    "\n",
    "# Find how much data we have\n",
    "data.info()"
   ]
  },
  {
   "cell_type": "code",
   "execution_count": 104,
   "metadata": {},
   "outputs": [
    {
     "name": "stdout",
     "output_type": "stream",
     "text": [
      "temp    False\n",
      "dwpt    False\n",
      "prcp     True\n",
      "wspd    False\n",
      "wdir     True\n",
      "pres     True\n",
      "dtype: bool\n",
      "temp    False\n",
      "dwpt    False\n",
      "prcp     True\n",
      "wspd    False\n",
      "wdir    False\n",
      "pres    False\n",
      "dtype: bool\n"
     ]
    },
    {
     "name": "stderr",
     "output_type": "stream",
     "text": [
      "SettingWithCopyWarning: \n",
      "A value is trying to be set on a copy of a slice from a DataFrame\n",
      "\n",
      "See the caveats in the documentation: https://pandas.pydata.org/pandas-docs/stable/user_guide/indexing.html#returning-a-view-versus-a-copy\n",
      "SettingWithCopyWarning: \n",
      "A value is trying to be set on a copy of a slice from a DataFrame\n",
      "\n",
      "See the caveats in the documentation: https://pandas.pydata.org/pandas-docs/stable/user_guide/indexing.html#returning-a-view-versus-a-copy\n",
      "SettingWithCopyWarning: \n",
      "A value is trying to be set on a copy of a slice from a DataFrame\n",
      "\n",
      "See the caveats in the documentation: https://pandas.pydata.org/pandas-docs/stable/user_guide/indexing.html#returning-a-view-versus-a-copy\n",
      "SettingWithCopyWarning: \n",
      "A value is trying to be set on a copy of a slice from a DataFrame\n",
      "\n",
      "See the caveats in the documentation: https://pandas.pydata.org/pandas-docs/stable/user_guide/indexing.html#returning-a-view-versus-a-copy\n",
      "SettingWithCopyWarning: \n",
      "A value is trying to be set on a copy of a slice from a DataFrame\n",
      "\n",
      "See the caveats in the documentation: https://pandas.pydata.org/pandas-docs/stable/user_guide/indexing.html#returning-a-view-versus-a-copy\n",
      "SettingWithCopyWarning: \n",
      "A value is trying to be set on a copy of a slice from a DataFrame\n",
      "\n",
      "See the caveats in the documentation: https://pandas.pydata.org/pandas-docs/stable/user_guide/indexing.html#returning-a-view-versus-a-copy\n"
     ]
    }
   ],
   "source": [
    "# Extract all relevant channels and impute and missing values\n",
    "data_cleaned = data[['temp', 'dwpt', 'prcp', 'wspd', 'wdir','pres']]\n",
    "print(data_cleaned.isna().any())\n",
    "\n",
    "# Use linear interpolation to fill in NA values\n",
    "data_cleaned['temp'].interpolate(method='linear', inplace=True)\n",
    "data_cleaned['dwpt'].interpolate(method='linear', inplace=True)\n",
    "data_cleaned['prcp'].interpolate(method='linear', inplace=True)\n",
    "data_cleaned['wspd'].interpolate(method='linear', inplace=True)\n",
    "data_cleaned['wdir'].interpolate(method='linear', inplace=True)\n",
    "data_cleaned['pres'].interpolate(method='linear', inplace=True)\n",
    "print(data_cleaned.isna().any())"
   ]
  },
  {
   "cell_type": "code",
   "execution_count": 105,
   "metadata": {},
   "outputs": [],
   "source": [
    "timeseries = data_cleaned[['temp']].values.astype('float32')\n",
    "\n",
    "scaler = StandardScaler()\n",
    "\n",
    "scaler.fit(timeseries)\n",
    "\n",
    "timeseries=scaler.transform(timeseries)\n",
    "\n",
    "# train-test split for time series\n",
    "train_size = int(len(timeseries) * 0.67)\n",
    "test_size = len(timeseries) - train_size\n",
    "train, test = timeseries[:train_size], timeseries[train_size:]"
   ]
  },
  {
   "cell_type": "code",
   "execution_count": 106,
   "metadata": {},
   "outputs": [],
   "source": [
    "def create_dataset(dataset, lookback):\n",
    "    \"\"\"Transform a time series into a prediction dataset\n",
    "    \n",
    "    Args:\n",
    "        dataset: A numpy array of time series, first dimension is the time steps\n",
    "        lookback: Size of window for prediction\n",
    "    \"\"\"\n",
    "    X, y = [], []\n",
    "    for i in range(len(dataset)-lookback):\n",
    "        feature = dataset[i:i+lookback]\n",
    "        target = dataset[i+1:i+lookback+1]\n",
    "        X.append(feature)\n",
    "        y.append(target)\n",
    "    return torch.tensor(X), torch.tensor(y)"
   ]
  },
  {
   "cell_type": "code",
   "execution_count": 107,
   "metadata": {},
   "outputs": [],
   "source": [
    "# def create_dataset(dataset, lookback, horizon):\n",
    "#     \"\"\"Transform a time series into a prediction dataset\n",
    "    \n",
    "#     Args:\n",
    "#         dataset: A numpy array of time series, first dimension is the time steps\n",
    "#         lookback: Size of window for prediction\n",
    "#     \"\"\"\n",
    "#     X, y = [], []\n",
    "#     for i in range(lookback, len(dataset) - horizon, 1):\n",
    "#         feature = dataset[i - lookback : i]\n",
    "#         target = dataset[i : i + horizon]\n",
    "#         X.append(feature)\n",
    "#         y.append(target)\n",
    "#     return torch.tensor(X), torch.tensor(y)"
   ]
  },
  {
   "cell_type": "code",
   "execution_count": 108,
   "metadata": {},
   "outputs": [],
   "source": [
    "lookback = 24\n",
    "X_train, y_train = create_dataset(train, lookback=lookback)\n",
    "X_test, y_test = create_dataset(test, lookback=lookback)"
   ]
  },
  {
   "cell_type": "code",
   "execution_count": 109,
   "metadata": {},
   "outputs": [],
   "source": [
    "class TempModel(torch.nn.Module):\n",
    "    def __init__(self):\n",
    "        super().__init__()\n",
    "        self.lstm1 = torch.nn.LSTM(input_size=1, hidden_size=50, num_layers=1, batch_first=True)\n",
    "        self.linear = torch.nn.Linear(50, 1)\n",
    "        self.lstm2 = torch.nn.LSTM(25, 1)\n",
    "    def forward(self, x):\n",
    "        x, _ = self.lstm1(x)\n",
    "        x = self.linear(x)\n",
    "        return x"
   ]
  },
  {
   "cell_type": "code",
   "execution_count": 110,
   "metadata": {},
   "outputs": [],
   "source": [
    "model = TempModel()\n",
    "optimizer = torch.optim.Adam(model.parameters())\n",
    "loss_fn = torch.nn.MSELoss()\n",
    "loader = torch.utils.data.DataLoader(torch.utils.data.TensorDataset(X_train, y_train), shuffle=True, batch_size=512)"
   ]
  },
  {
   "cell_type": "code",
   "execution_count": 111,
   "metadata": {},
   "outputs": [
    {
     "name": "stdout",
     "output_type": "stream",
     "text": [
      "Epoch 0: train RMSE 0.3181, test RMSE 0.3209\n",
      "Epoch 1: train RMSE 0.2187, test RMSE 0.2189\n",
      "Epoch 2: train RMSE 0.1836, test RMSE 0.1836\n",
      "Epoch 3: train RMSE 0.1618, test RMSE 0.1615\n",
      "Epoch 4: train RMSE 0.1468, test RMSE 0.1464\n",
      "Epoch 5: train RMSE 0.1370, test RMSE 0.1363\n",
      "Epoch 6: train RMSE 0.1307, test RMSE 0.1298\n",
      "Epoch 7: train RMSE 0.1268, test RMSE 0.1261\n",
      "Epoch 8: train RMSE 0.1231, test RMSE 0.1224\n",
      "Epoch 9: train RMSE 0.1220, test RMSE 0.1214\n"
     ]
    }
   ],
   "source": [
    "n_epochs = 10\n",
    "for epoch in range(n_epochs):\n",
    "    model.train()\n",
    "    for X_batch, y_batch in loader:\n",
    "        y_pred = model(X_batch)\n",
    "        loss = loss_fn(y_pred, y_batch)\n",
    "        optimizer.zero_grad()\n",
    "        loss.backward()\n",
    "        optimizer.step()\n",
    "    # # Validation\n",
    "    # if epoch % 100 != 0:\n",
    "    #     continue\n",
    "    model.eval()\n",
    "    with torch.no_grad():\n",
    "        y_pred = model(X_train)\n",
    "        train_rmse = np.sqrt(loss_fn(y_pred, y_train))\n",
    "        y_pred = model(X_test)\n",
    "        test_rmse = np.sqrt(loss_fn(y_pred, y_test))\n",
    "    print(\"Epoch %d: train RMSE %.4f, test RMSE %.4f\" % (epoch, train_rmse, test_rmse))"
   ]
  },
  {
   "cell_type": "code",
   "execution_count": 118,
   "metadata": {},
   "outputs": [
    {
     "name": "stdout",
     "output_type": "stream",
     "text": [
      "torch.Size([58716, 24, 1])\n"
     ]
    }
   ],
   "source": [
    "with torch.no_grad():\n",
    "    # shift train predictions for plotting\n",
    "    train_plot = np.ones_like(timeseries) * np.nan\n",
    "    y_pred = model(X_train)\n",
    "    print(y_pred.shape)\n",
    "    y_pred = y_pred[:, -1, :]\n",
    "    train_plot[lookback:train_size] = model(X_train)[:, -1, :]\n",
    "    # shift test predictions for plotting\n",
    "    test_plot = np.ones_like(timeseries) * np.nan\n",
    "    test_plot[train_size+lookback:len(timeseries)] = model(X_test)[:, -1, :]"
   ]
  },
  {
   "cell_type": "code",
   "execution_count": 113,
   "metadata": {},
   "outputs": [
    {
     "data": {
      "image/png": "[encoded data removed]",
      "text/plain": [
       "<Figure size 640x480 with 1 Axes>"
      ]
     },
     "metadata": {},
     "output_type": "display_data"
    }
   ],
   "source": [
    "# plot\n",
    "plt.plot(timeseries)\n",
    "plt.plot(train_plot, c='r')\n",
    "plt.plot(test_plot, c='g')\n",
    "plt.show()"
   ]
  },
  {
   "cell_type": "code",
   "execution_count": 121,
   "metadata": {},
   "outputs": [
    {
     "data": {
      "text/plain": [
       "(87673, 1)"
      ]
     },
     "execution_count": 121,
     "metadata": {},
     "output_type": "execute_result"
    }
   ],
   "source": [
    "timeseries.shape"
   ]
  },
  {
   "cell_type": "code",
   "execution_count": 120,
   "metadata": {},
   "outputs": [
    {
     "name": "stdout",
     "output_type": "stream",
     "text": [
      "torch.Size([58716, 24, 1])\n"
     ]
    }
   ],
   "source": [
    "with torch.no_grad():\n",
    "    # shift train predictions for plotting\n",
    "    last_day = np.ones_like(timeseries[-1, :]) * np.nan\n",
    "    y_pred = model(X_test)\n",
    "    print(y_pred.shape)\n",
    "    y_pred = y_pred[-1, :, :]\n",
    "    last_day[]\n",
    "    # shift test predictions for plotting\n",
    "    test_plot = np.ones_like(timeseries) * np.nan\n",
    "    test_plot[train_size+lookback:len(timeseries)] = model(X_test)[:, -1, :]\n"
   ]
  }
 ],
 "metadata": {
  "kernelspec": {
   "display_name": "phys417",
   "language": "python",
   "name": "python3"
  },
  "language_info": {
   "codemirror_mode": {
    "name": "ipython",
    "version": 3
   },
   "file_extension": ".py",
   "mimetype": "text/x-python",
   "name": "python",
   "nbconvert_exporter": "python",
   "pygments_lexer": "ipython3",
   "version": "3.8.16"
  },
  "orig_nbformat": 4
 },
 "nbformat": 4,
 "nbformat_minor": 2
}
