{
  "cells": [
    {
      "attachments": {},
      "cell_type": "markdown",
      "id": "7f1be33f",
      "metadata": {
        "id": "7f1be33f"
      },
      "source": [
        "# <span style='color:blue'> Final Project: </span>\n",
        "# <span style='color:blue'> Meteostat </span>"
      ]
    },
    {
      "cell_type": "code",
      "execution_count": 1,
      "id": "9632cfb8",
      "metadata": {
        "id": "9632cfb8"
      },
      "outputs": [],
      "source": [
        "%matplotlib inline\n",
        "\n",
        "import numpy as np\n",
        "import matplotlib.pyplot as plt\n",
        "import pandas as pd\n",
        "import seaborn as sns\n",
        "from sklearn.preprocessing import StandardScaler\n",
        "import datetime\n",
        "import pandas as pd\n",
        "from sklearn.preprocessing import StandardScaler\n",
        "from meteostat import Point, Daily, Hourly, Stations\n",
        "import torch\n",
        "import torch.utils.data as data_utils"
      ]
    },
    {
      "attachments": {},
      "cell_type": "markdown",
      "id": "855b4738",
      "metadata": {
        "id": "855b4738"
      },
      "source": [
        "## Prepare Data"
      ]
    },
    {
      "cell_type": "code",
      "execution_count": 2,
      "id": "yq6RSUKbKwSu",
      "metadata": {
        "colab": {
          "base_uri": "https://localhost:8080/",
          "height": 238
        },
        "id": "yq6RSUKbKwSu",
        "outputId": "d7856eb4-6f6f-40b4-fff2-25336c956d82"
      },
      "outputs": [
        {
          "data": {
            "text/html": [
              "<div>\n",
              "<style scoped>\n",
              "    .dataframe tbody tr th:only-of-type {\n",
              "        vertical-align: middle;\n",
              "    }\n",
              "\n",
              "    .dataframe tbody tr th {\n",
              "        vertical-align: top;\n",
              "    }\n",
              "\n",
              "    .dataframe thead th {\n",
              "        text-align: right;\n",
              "    }\n",
              "</style>\n",
              "<table border=\"1\" class=\"dataframe\">\n",
              "  <thead>\n",
              "    <tr style=\"text-align: right;\">\n",
              "      <th></th>\n",
              "      <th>tavg</th>\n",
              "      <th>tmin</th>\n",
              "      <th>tmax</th>\n",
              "      <th>prcp</th>\n",
              "      <th>snow</th>\n",
              "      <th>wdir</th>\n",
              "      <th>wspd</th>\n",
              "      <th>wpgt</th>\n",
              "      <th>pres</th>\n",
              "      <th>tsun</th>\n",
              "    </tr>\n",
              "    <tr>\n",
              "      <th>time</th>\n",
              "      <th></th>\n",
              "      <th></th>\n",
              "      <th></th>\n",
              "      <th></th>\n",
              "      <th></th>\n",
              "      <th></th>\n",
              "      <th></th>\n",
              "      <th></th>\n",
              "      <th></th>\n",
              "      <th></th>\n",
              "    </tr>\n",
              "  </thead>\n",
              "  <tbody>\n",
              "    <tr>\n",
              "      <th>1943-10-02</th>\n",
              "      <td>16.0</td>\n",
              "      <td>12.4</td>\n",
              "      <td>25.2</td>\n",
              "      <td>NaN</td>\n",
              "      <td>NaN</td>\n",
              "      <td>169.0</td>\n",
              "      <td>11.0</td>\n",
              "      <td>NaN</td>\n",
              "      <td>1015.2</td>\n",
              "      <td>NaN</td>\n",
              "    </tr>\n",
              "    <tr>\n",
              "      <th>1943-10-03</th>\n",
              "      <td>16.3</td>\n",
              "      <td>12.4</td>\n",
              "      <td>21.3</td>\n",
              "      <td>NaN</td>\n",
              "      <td>NaN</td>\n",
              "      <td>145.0</td>\n",
              "      <td>8.6</td>\n",
              "      <td>NaN</td>\n",
              "      <td>1017.6</td>\n",
              "      <td>NaN</td>\n",
              "    </tr>\n",
              "    <tr>\n",
              "      <th>1943-10-04</th>\n",
              "      <td>15.0</td>\n",
              "      <td>10.7</td>\n",
              "      <td>21.3</td>\n",
              "      <td>NaN</td>\n",
              "      <td>NaN</td>\n",
              "      <td>169.0</td>\n",
              "      <td>9.7</td>\n",
              "      <td>NaN</td>\n",
              "      <td>1015.5</td>\n",
              "      <td>NaN</td>\n",
              "    </tr>\n",
              "    <tr>\n",
              "      <th>1943-10-05</th>\n",
              "      <td>16.6</td>\n",
              "      <td>14.6</td>\n",
              "      <td>19.6</td>\n",
              "      <td>NaN</td>\n",
              "      <td>NaN</td>\n",
              "      <td>208.0</td>\n",
              "      <td>10.0</td>\n",
              "      <td>NaN</td>\n",
              "      <td>1022.9</td>\n",
              "      <td>NaN</td>\n",
              "    </tr>\n",
              "    <tr>\n",
              "      <th>1943-10-06</th>\n",
              "      <td>NaN</td>\n",
              "      <td>NaN</td>\n",
              "      <td>NaN</td>\n",
              "      <td>NaN</td>\n",
              "      <td>NaN</td>\n",
              "      <td>NaN</td>\n",
              "      <td>NaN</td>\n",
              "      <td>NaN</td>\n",
              "      <td>NaN</td>\n",
              "      <td>NaN</td>\n",
              "    </tr>\n",
              "  </tbody>\n",
              "</table>\n",
              "</div>"
            ],
            "text/plain": [
              "            tavg  tmin  tmax  prcp  snow   wdir  wspd  wpgt    pres  tsun\n",
              "time                                                                     \n",
              "1943-10-02  16.0  12.4  25.2   NaN   NaN  169.0  11.0   NaN  1015.2   NaN\n",
              "1943-10-03  16.3  12.4  21.3   NaN   NaN  145.0   8.6   NaN  1017.6   NaN\n",
              "1943-10-04  15.0  10.7  21.3   NaN   NaN  169.0   9.7   NaN  1015.5   NaN\n",
              "1943-10-05  16.6  14.6  19.6   NaN   NaN  208.0  10.0   NaN  1022.9   NaN\n",
              "1943-10-06   NaN   NaN   NaN   NaN   NaN    NaN   NaN   NaN     NaN   NaN"
            ]
          },
          "execution_count": 2,
          "metadata": {},
          "output_type": "execute_result"
        }
      ],
      "source": [
        "# Want to remove NaN entries and build a temperature model from sufficient data\n",
        "\n",
        "lat = 47.6\n",
        "lon = -122.3\n",
        "data=Daily(Point(lat,lon)).fetch()\n",
        "data.head()"
      ]
    },
    {
      "cell_type": "code",
      "execution_count": 3,
      "id": "MlUPWXd2R4iv",
      "metadata": {
        "colab": {
          "base_uri": "https://localhost:8080/"
        },
        "id": "MlUPWXd2R4iv",
        "outputId": "2ab85a82-6191-4757-f0af-144c06059391"
      },
      "outputs": [
        {
          "data": {
            "text/plain": [
              "(29095, 10)"
            ]
          },
          "execution_count": 3,
          "metadata": {},
          "output_type": "execute_result"
        }
      ],
      "source": [
        "data.shape"
      ]
    },
    {
      "cell_type": "code",
      "execution_count": 4,
      "id": "9bjHfgyZLjNG",
      "metadata": {
        "colab": {
          "base_uri": "https://localhost:8080/",
          "height": 867
        },
        "id": "9bjHfgyZLjNG",
        "outputId": "29798388-0939-46b4-fbc1-4297a8d628d3"
      },
      "outputs": [
        {
          "data": {
            "text/plain": [
              "<AxesSubplot:xlabel='time'>"
            ]
          },
          "execution_count": 4,
          "metadata": {},
          "output_type": "execute_result"
        },
        {
          "data": {
            "image/png": "[encoded data removed]",
            "text/plain": [
              "<Figure size 1000x1000 with 6 Axes>"
            ]
          },
          "metadata": {},
          "output_type": "display_data"
        }
      ],
      "source": [
        "fig, ax = plt.subplots(nrows=3, ncols=2, figsize=(10, 10))\n",
        "\n",
        "data['tavg'].plot(ax=ax[0][0], legend=True)\n",
        "data['wspd'].plot(ax=ax[0][1], legend=True)\n",
        "data['pres'].plot(ax=ax[1][0], legend=True)\n",
        "data['prcp'].plot(ax=ax[1][1], legend=True)\n",
        "data['tsun'].plot(ax=ax[2][0], legend=True)\n",
        "\n",
        "# As you can see, there is a gap in the data ~ 1970. However, we can get sufficient data by stating ~ 1975"
      ]
    },
    {
      "cell_type": "code",
      "execution_count": 5,
      "id": "vy9LPKErRSpY",
      "metadata": {
        "colab": {
          "base_uri": "https://localhost:8080/"
        },
        "id": "vy9LPKErRSpY",
        "outputId": "654aec6b-857f-4d59-eba4-1c39215829a3"
      },
      "outputs": [
        {
          "data": {
            "text/plain": [
              "<AxesSubplot:xlabel='time'>"
            ]
          },
          "execution_count": 5,
          "metadata": {},
          "output_type": "execute_result"
        }
      ],
      "source": [
        "data['tsun'].plot(ax=ax[2][0], legend=True)"
      ]
    },
    {
      "cell_type": "code",
      "execution_count": 6,
      "id": "9yO6rM4ZOcQt",
      "metadata": {
        "colab": {
          "base_uri": "https://localhost:8080/"
        },
        "id": "9yO6rM4ZOcQt",
        "outputId": "0cf9c171-a431-4537-eaca-4d8de3a124d4"
      },
      "outputs": [
        {
          "name": "stdout",
          "output_type": "stream",
          "text": [
            "<class 'pandas.core.frame.DataFrame'>\n",
            "DatetimeIndex: 26305 entries, 2020-01-01 00:00:00 to 2023-01-01 00:00:00\n",
            "Freq: H\n",
            "Data columns (total 11 columns):\n",
            " #   Column  Non-Null Count  Dtype  \n",
            "---  ------  --------------  -----  \n",
            " 0   temp    26305 non-null  float64\n",
            " 1   dwpt    26305 non-null  float64\n",
            " 2   rhum    26305 non-null  float64\n",
            " 3   prcp    26231 non-null  float64\n",
            " 4   snow    0 non-null      float64\n",
            " 5   wdir    26305 non-null  float64\n",
            " 6   wspd    26305 non-null  float64\n",
            " 7   wpgt    0 non-null      float64\n",
            " 8   pres    26305 non-null  float64\n",
            " 9   tsun    0 non-null      float64\n",
            " 10  coco    26073 non-null  float64\n",
            "dtypes: float64(11)\n",
            "memory usage: 2.4 MB\n"
          ]
        }
      ],
      "source": [
        "# Define start and end times\n",
        "start = datetime.datetime(2020, 1, 1)\n",
        "end = datetime.datetime(2023, 1, 1)\n",
        "\n",
        "data = Hourly(Point(lat,lon), start=start, end=end).fetch()\n",
        "\n",
        "# Find how much data we have\n",
        "data.info()"
      ]
    },
    {
      "cell_type": "code",
      "execution_count": 7,
      "id": "hJszruArSl8e",
      "metadata": {
        "colab": {
          "base_uri": "https://localhost:8080/"
        },
        "id": "hJszruArSl8e",
        "outputId": "a5910adb-0e1f-4241-dbbc-c66d330392d7"
      },
      "outputs": [
        {
          "name": "stdout",
          "output_type": "stream",
          "text": [
            "temp    False\n",
            "dwpt    False\n",
            "prcp     True\n",
            "wspd    False\n",
            "wdir    False\n",
            "pres    False\n",
            "dtype: bool\n",
            "temp    False\n",
            "dwpt    False\n",
            "prcp    False\n",
            "wspd    False\n",
            "wdir    False\n",
            "pres    False\n",
            "dtype: bool\n"
          ]
        },
        {
          "name": "stderr",
          "output_type": "stream",
          "text": [
            "SettingWithCopyWarning: \n",
            "A value is trying to be set on a copy of a slice from a DataFrame\n",
            "\n",
            "See the caveats in the documentation: https://pandas.pydata.org/pandas-docs/stable/user_guide/indexing.html#returning-a-view-versus-a-copy\n",
            "SettingWithCopyWarning: \n",
            "A value is trying to be set on a copy of a slice from a DataFrame\n",
            "\n",
            "See the caveats in the documentation: https://pandas.pydata.org/pandas-docs/stable/user_guide/indexing.html#returning-a-view-versus-a-copy\n",
            "SettingWithCopyWarning: \n",
            "A value is trying to be set on a copy of a slice from a DataFrame\n",
            "\n",
            "See the caveats in the documentation: https://pandas.pydata.org/pandas-docs/stable/user_guide/indexing.html#returning-a-view-versus-a-copy\n",
            "SettingWithCopyWarning: \n",
            "A value is trying to be set on a copy of a slice from a DataFrame\n",
            "\n",
            "See the caveats in the documentation: https://pandas.pydata.org/pandas-docs/stable/user_guide/indexing.html#returning-a-view-versus-a-copy\n",
            "SettingWithCopyWarning: \n",
            "A value is trying to be set on a copy of a slice from a DataFrame\n",
            "\n",
            "See the caveats in the documentation: https://pandas.pydata.org/pandas-docs/stable/user_guide/indexing.html#returning-a-view-versus-a-copy\n",
            "SettingWithCopyWarning: \n",
            "A value is trying to be set on a copy of a slice from a DataFrame\n",
            "\n",
            "See the caveats in the documentation: https://pandas.pydata.org/pandas-docs/stable/user_guide/indexing.html#returning-a-view-versus-a-copy\n"
          ]
        }
      ],
      "source": [
        "# Extract all relevant channels and impute and missing values\n",
        "data_cleaned = data[['temp', 'dwpt', 'prcp', 'wspd', 'wdir','pres']]\n",
        "print(data_cleaned.isna().any())\n",
        "\n",
        "# Use linear interpolation to fill in NA values\n",
        "data_cleaned['temp'].interpolate(method='linear', inplace=True)\n",
        "data_cleaned['dwpt'].interpolate(method='linear', inplace=True)\n",
        "data_cleaned['prcp'].interpolate(method='linear', inplace=True)\n",
        "data_cleaned['wspd'].interpolate(method='linear', inplace=True)\n",
        "data_cleaned['wdir'].interpolate(method='linear', inplace=True)\n",
        "data_cleaned['pres'].interpolate(method='linear', inplace=True)\n",
        "print(data_cleaned.isna().any())"
      ]
    },
    {
      "cell_type": "code",
      "execution_count": 8,
      "id": "oQL0uHNCh61M",
      "metadata": {
        "colab": {
          "base_uri": "https://localhost:8080/"
        },
        "id": "oQL0uHNCh61M",
        "outputId": "322e1d12-bb47-4542-f79b-6310c5f9be4f"
      },
      "outputs": [
        {
          "data": {
            "text/plain": [
              "Index(['temp', 'dwpt', 'prcp', 'wspd', 'wdir', 'pres'], dtype='object')"
            ]
          },
          "execution_count": 8,
          "metadata": {},
          "output_type": "execute_result"
        }
      ],
      "source": [
        "data_cleaned.columns"
      ]
    },
    {
      "cell_type": "code",
      "execution_count": 9,
      "id": "77toa_Xgck6A",
      "metadata": {
        "id": "77toa_Xgck6A"
      },
      "outputs": [],
      "source": [
        "# Model takes 5 days and then predicts 3 \n",
        "\n",
        "testing_sequence_len = 8 * 24\n",
        "\n",
        "# Convert to numpy array \n",
        "y = data_cleaned.values\n",
        "\n",
        "scaler = StandardScaler()\n",
        "\n",
        "scaler.fit(y)\n",
        "\n",
        "y_scaled = scaler.transform(y)\n",
        "\n",
        "y_train = y_scaled[:-testing_sequence_len]\n"
      ]
    },
    {
      "cell_type": "code",
      "execution_count": 10,
      "id": "bc0e21b7",
      "metadata": {
        "colab": {
          "base_uri": "https://localhost:8080/"
        },
        "id": "bc0e21b7",
        "outputId": "2d0ca243-0568-4ec2-9326-a8a237c0f510"
      },
      "outputs": [
        {
          "data": {
            "text/plain": [
              "6"
            ]
          },
          "execution_count": 10,
          "metadata": {},
          "output_type": "execute_result"
        }
      ],
      "source": [
        "# Define encoder/decoder sequence lengths and testing sequencce length\n",
        "encoder_inputseq_len = 5 * 24\n",
        "decoder_outputseq_len = 3 * 24\n",
        "num_features = y_train.shape[1]\n",
        "num_features"
      ]
    },
    {
      "cell_type": "code",
      "execution_count": 11,
      "id": "20110e70",
      "metadata": {
        "id": "20110e70"
      },
      "outputs": [],
      "source": [
        "def generate_input_output_seqs(y, encoder_inputseq_len, decoder_outputseq_len, stride = 1, num_features = num_features):\n",
        "  \n",
        "    L = y.shape[0] # Length of y\n",
        "    \n",
        "    # Calculate how many input/target sequences there will be based on the parameters and stride\n",
        "    num_samples = (L - encoder_inputseq_len - decoder_outputseq_len) // stride + 1\n",
        "    \n",
        "    # Numpy zeros arrray to contain the input/target sequences\n",
        "    # Note that they should be in (num_samples, seq_len, num_features/time step) format\n",
        "    train_input_seqs = np.zeros([num_samples, encoder_inputseq_len, num_features])\n",
        "    train_output_seqs = np.zeros([num_samples, decoder_outputseq_len, num_features])    \n",
        "    \n",
        "    # Iteratively fill in train_input_seqs and train_output_seqs\n",
        "    # See slide 17 of lab 7 to get an idea of how input_seqs and output_seqs look like\n",
        "    for ff in np.arange(num_features):\n",
        "        \n",
        "        for ii in np.arange(num_samples):\n",
        "            \n",
        "            start_x = stride * ii\n",
        "            end_x = start_x + encoder_inputseq_len\n",
        "            train_input_seqs[ii, :, ff] = y[start_x:end_x, ff]\n",
        "\n",
        "            start_y = stride * ii + encoder_inputseq_len\n",
        "            end_y = start_y + decoder_outputseq_len \n",
        "            train_output_seqs[ii, :, ff] = y[start_y:end_y, ff]\n",
        "\n",
        "    return train_input_seqs, train_output_seqs"
      ]
    },
    {
      "cell_type": "code",
      "execution_count": 12,
      "id": "2886d12a",
      "metadata": {
        "id": "2886d12a"
      },
      "outputs": [
        {
          "data": {
            "text/plain": [
              "(25922, 120, 6)"
            ]
          },
          "execution_count": 12,
          "metadata": {},
          "output_type": "execute_result"
        }
      ],
      "source": [
        "# Generate encoder input seqs and decoder output seqs\n",
        "train_input_seqs, train_output_seqs = generate_input_output_seqs(\n",
        "    y=y_train,\n",
        "    encoder_inputseq_len=encoder_inputseq_len,\n",
        "    decoder_outputseq_len=decoder_outputseq_len,\n",
        "    stride=1,\n",
        "    num_features=num_features\n",
        ")\n",
        "train_input_seqs.shape"
      ]
    },
    {
      "cell_type": "code",
      "execution_count": 13,
      "id": "2d1a741f",
      "metadata": {
        "colab": {
          "base_uri": "https://localhost:8080/"
        },
        "id": "2d1a741f",
        "outputId": "2f7f322d-5e80-4105-b53a-10c0dc279ceb"
      },
      "outputs": [
        {
          "name": "stdout",
          "output_type": "stream",
          "text": [
            "Encoder Training Inputs Shape:  (25922, 120, 6)\n",
            "Decoder Training Outputs Shape:  (25922, 72, 6)\n"
          ]
        }
      ],
      "source": [
        "# Check the dimensions of encoder input seqs and decoder output seqs\n",
        "print(\"Encoder Training Inputs Shape: \", train_input_seqs.shape)\n",
        "print(\"Decoder Training Outputs Shape: \", train_output_seqs.shape)"
      ]
    },
    {
      "cell_type": "code",
      "execution_count": 14,
      "id": "yfdSANhT3Q2V",
      "metadata": {
        "id": "yfdSANhT3Q2V"
      },
      "outputs": [],
      "source": [
        "device = torch.device(\"cuda\" if torch.cuda.is_available() else \"cpu\")\n"
      ]
    },
    {
      "attachments": {},
      "cell_type": "markdown",
      "id": "cfda0488",
      "metadata": {
        "id": "cfda0488"
      },
      "source": [
        "## Define Model"
      ]
    },
    {
      "cell_type": "code",
      "execution_count": 15,
      "id": "53860c5c",
      "metadata": {
        "id": "53860c5c"
      },
      "outputs": [],
      "source": [
        "\n",
        "class Encoder(torch.nn.Module):\n",
        "    def __init__(self, input_size, hidden_size, num_layers):\n",
        "        super(Encoder, self).__init__()\n",
        "\n",
        "        # Using LSTM for Encoder with batch_first = True\n",
        "        self.lstm = torch.nn.LSTM(input_size=input_size, hidden_size=hidden_size, num_layers=num_layers, batch_first=True)\n",
        "\n",
        "    def forward(self, input_seq, hidden_state):\n",
        "        # Move input to GPU if available\n",
        "        input_seq = input_seq.to(device)\n",
        "        hidden_state = hidden_state\n",
        "\n",
        "        lstm_out, hidden = self.lstm(input_seq, hidden_state)\n",
        "        return lstm_out, hidden\n",
        "\n",
        "class Decoder(torch.nn.Module):\n",
        "    def __init__(self, input_size, hidden_size, output_size, num_layers):\n",
        "        super(Decoder, self).__init__()\n",
        "\n",
        "        # Using LSTM for Decoder with batch_first = True\n",
        "        # fc_decoder for converting hidden states -> single number\n",
        "        self.lstm = torch.nn.LSTM(input_size=input_size, hidden_size=hidden_size, num_layers=num_layers, batch_first=True)\n",
        "        self.fc_decoder = torch.nn.Linear(hidden_size, output_size)\n",
        "\n",
        "    def forward(self, input_seq, encoder_hidden_states):\n",
        "        # Move input to GPU if available\n",
        "        input_seq = input_seq.to(device)\n",
        "        encoder_hidden_states = tuple(h.to(device) for h in encoder_hidden_states)\n",
        "\n",
        "        lstm_out, hidden = self.lstm(input_seq, encoder_hidden_states)\n",
        "        output = self.fc_decoder(lstm_out)\n",
        "        return output, hidden\n",
        "\n",
        "class Encoder_Decoder(torch.nn.Module):\n",
        "    def __init__(self, input_size, hidden_size, decoder_output_size, num_layers):\n",
        "        # Combine Encoder and Decoder classes into one\n",
        "        super(Encoder_Decoder, self).__init__()\n",
        "\n",
        "        self.Encoder = Encoder(input_size=input_size, hidden_size=hidden_size, num_layers=num_layers)\n",
        "        self.Decoder = Decoder(input_size=input_size, hidden_size=hidden_size, output_size=decoder_output_size, num_layers=num_layers)\n",
        "\n",
        "        # Move model to GPU if available\n",
        "        self.to(device)\n"
      ]
    },
    {
      "attachments": {},
      "cell_type": "markdown",
      "id": "aac20f78",
      "metadata": {
        "id": "aac20f78"
      },
      "source": [
        "## Define Hyperparameters"
      ]
    },
    {
      "cell_type": "code",
      "execution_count": 16,
      "id": "4tylJDiBp-92",
      "metadata": {
        "id": "4tylJDiBp-92"
      },
      "outputs": [],
      "source": [
        "# Define optimizer(lr_0)\n",
        "\n",
        "# train for n_0\n",
        "\n",
        "# Redefine optimizer(lr_1)\n",
        "\n",
        "# train for n_1"
      ]
    },
    {
      "cell_type": "code",
      "execution_count": 17,
      "id": "7badc0c7",
      "metadata": {
        "colab": {
          "base_uri": "https://localhost:8080/"
        },
        "id": "7badc0c7",
        "outputId": "096138ba-c166-493f-b06a-c30a679872a3"
      },
      "outputs": [
        {
          "data": {
            "text/plain": [
              "Encoder_Decoder(\n",
              "  (Encoder): Encoder(\n",
              "    (lstm): LSTM(6, 20, batch_first=True)\n",
              "  )\n",
              "  (Decoder): Decoder(\n",
              "    (lstm): LSTM(6, 20, batch_first=True)\n",
              "    (fc_decoder): Linear(in_features=20, out_features=6, bias=True)\n",
              "  )\n",
              ")"
            ]
          },
          "execution_count": 17,
          "metadata": {},
          "output_type": "execute_result"
        }
      ],
      "source": [
        "# Fix random seed\n",
        "torch.manual_seed(55)\n",
        "\n",
        "# Define learning rate + epochs\n",
        "epochs = 10000\n",
        "learning_rate = 0.1  # Updated learning rate\n",
        "lr_step_size = 200  # Updated lr_step_size\n",
        "lr_gamma = 0.1  # Updated lr_gamma\n",
        "hidden_size = 20  # Updated hidden_size\n",
        "num_layers = 1\n",
        "\n",
        "\n",
        "# Using input_size = 1 (# of features to be fed to RNN per timestep)\n",
        "# Using decoder_output_size = 1 (# of features to be output by Decoder RNN per timestep)\n",
        "Encoder_Decoder_RNN = Encoder_Decoder(input_size = num_features, hidden_size = hidden_size, decoder_output_size = num_features, num_layers = num_layers)\n",
        "Encoder_Decoder_RNN.to(device)\n",
        "\n",
        "\n",
        "# Define batch size and num_features/timestep (this is simply the last dimension of train_output_seqs)\n",
        "batchsize = 100\n",
        "\n",
        "# Define loss function/optimizer\n",
        "loss_func = torch.nn.SmoothL1Loss()\n",
        "optimizer = torch.optim.Adam(Encoder_Decoder_RNN.parameters(), lr=learning_rate)\n",
        "scheduler = torch.optim.lr_scheduler.StepLR(optimizer, step_size=lr_step_size, gamma=lr_gamma)  # Learning rate scheduler\n",
        "\n",
        "Encoder_Decoder_RNN"
      ]
    },
    {
      "attachments": {},
      "cell_type": "markdown",
      "id": "ff8fba0e",
      "metadata": {
        "id": "ff8fba0e"
      },
      "source": [
        "## Identify Tracked Values"
      ]
    },
    {
      "cell_type": "code",
      "execution_count": 18,
      "id": "fe9c7902",
      "metadata": {
        "id": "fe9c7902"
      },
      "outputs": [],
      "source": [
        "# Empty Python list to keep track of training loss\n",
        "train_loss_list = []"
      ]
    },
    {
      "attachments": {},
      "cell_type": "markdown",
      "id": "c403ae44",
      "metadata": {
        "id": "c403ae44"
      },
      "source": [
        "## Train Model"
      ]
    },
    {
      "cell_type": "code",
      "execution_count": 19,
      "id": "9eb3ffcc",
      "metadata": {
        "id": "9eb3ffcc"
      },
      "outputs": [],
      "source": [
        "# Convert training dataset into torch tensors\n",
        "train_input_seqs = torch.from_numpy(train_input_seqs).float()\n",
        "train_output_seqs = torch.from_numpy(train_output_seqs).float()\n",
        "\n",
        "# Split the training dataset to mini-batches\n",
        "# Skipping the last mini-batch since its size can be smaller than the set batchsize\n",
        "train_batches_features = torch.split(train_input_seqs, batchsize)[:-1]\n",
        "train_batches_targets = torch.split(train_output_seqs, batchsize)[:-1]\n",
        "\n",
        "# Total number of mini-batches in the training set\n",
        "batch_split_num = len(train_batches_features)\n"
      ]
    },
    {
      "cell_type": "code",
      "execution_count": 20,
      "id": "50ed7297",
      "metadata": {
        "colab": {
          "base_uri": "https://localhost:8080/"
        },
        "id": "50ed7297",
        "outputId": "e7dd8967-7d50-4e22-afd9-944dabcfcf1f",
        "scrolled": true
      },
      "outputs": [
        {
          "name": "stdout",
          "output_type": "stream",
          "text": [
            "Averaged Training Loss for Epoch  0 :  0.1602614397420386\n",
            "Averaged Training Loss for Epoch  1 :  0.12424201955551346\n",
            "Averaged Training Loss for Epoch  2 :  0.1155668732253511\n",
            "Averaged Training Loss for Epoch  3 :  0.11575292475147597\n",
            "Averaged Training Loss for Epoch  4 :  0.11536989303514304\n",
            "Averaged Training Loss for Epoch  5 :  0.11688538189100023\n",
            "Averaged Training Loss for Epoch  6 :  0.11715785101861567\n",
            "Averaged Training Loss for Epoch  7 :  0.11552112487694932\n",
            "Averaged Training Loss for Epoch  8 :  0.12176318590360259\n",
            "Averaged Training Loss for Epoch  9 :  0.11865309597097308\n",
            "Averaged Training Loss for Epoch  10 :  0.11941626173188788\n",
            "Averaged Training Loss for Epoch  11 :  0.12150586384949076\n",
            "Averaged Training Loss for Epoch  12 :  0.11607269092703879\n",
            "Averaged Training Loss for Epoch  13 :  0.1154095497140553\n"
          ]
        }
      ],
      "source": [
        "for epoch in range(epochs):\n",
        "    for k in range(batch_split_num):\n",
        "        hidden_state = None\n",
        "        decoder_output_seq = torch.zeros(batchsize, decoder_outputseq_len, num_features).to(device)  # Move tensor to GPU\n",
        "\n",
        "        optimizer.zero_grad()\n",
        "\n",
        "        encoder_output, encoder_hidden = Encoder_Decoder_RNN.Encoder(train_batches_features[k].to(device), hidden_state)  # Move tensor to GPU\n",
        "        decoder_hidden = tuple(h.to(device) for h in encoder_hidden if h is not None)  # Move non-None tensors to GPU\n",
        "\n",
        "        decoder_input = train_batches_features[k][:, -1, :]\n",
        "        decoder_input = torch.unsqueeze(decoder_input, 1).to(device)  # Move tensor to GPU\n",
        "\n",
        "        for t in range(decoder_outputseq_len):\n",
        "            # if (t<10) and (k==1):\n",
        "            #   print(f\"decoder_input.shape: {decoder_input.shape}\")\n",
        "            #   print(f\"decoder_hidden.shape: {decoder_hidden[0].shape} \\n\")\n",
        "\n",
        "            decoder_output, decoder_hidden = Encoder_Decoder_RNN.Decoder(decoder_input, decoder_hidden)\n",
        "            decoder_output_seq[:, t, :] = decoder_output.squeeze(1)\n",
        "\n",
        "            decoder_input = train_batches_targets[k][:, t, :]\n",
        "            decoder_input = torch.unsqueeze(decoder_input, 1).to(device)  # Move tensor to GPU\n",
        "\n",
        "        loss = loss_func(decoder_output_seq, train_batches_targets[k].to(device))  # Move tensor to GPU\n",
        "        train_loss_list.append(loss.item())\n",
        "\n",
        "        loss.backward()\n",
        "        optimizer.step()\n",
        "\n",
        "    #scheduler.step()  # Update learning rate\n",
        "\n",
        "    print(\"Averaged Training Loss for Epoch \", epoch, \": \", np.mean(train_loss_list[-batch_split_num:]))"
      ]
    },
    {
      "cell_type": "code",
      "execution_count": null,
      "id": "e882ff3a",
      "metadata": {
        "colab": {
          "base_uri": "https://localhost:8080/",
          "height": 502
        },
        "id": "e882ff3a",
        "outputId": "0a57138c-7a43-40bf-c0b0-93f52ecce274"
      },
      "outputs": [],
      "source": [
        "# Define the test sequence (t_avg)\n",
        "test_input_seq = data_cleaned.values[-testing_sequence_len:]\n",
        "\n",
        "test_target_seq = data_cleaned['temp'].values[-testing_sequence_len:]\n",
        "test_input_seq.shape"
      ]
    },
    {
      "attachments": {},
      "cell_type": "markdown",
      "id": "e1b49cc5",
      "metadata": {
        "id": "e1b49cc5"
      },
      "source": [
        "## Visualize & Evaluate Model"
      ]
    },
    {
      "cell_type": "code",
      "execution_count": null,
      "id": "c72efa14",
      "metadata": {
        "id": "c72efa14"
      },
      "outputs": [],
      "source": [
        "plt.figure(figsize = (12, 7))\n",
        "\n",
        "plt.plot(np.convolve(train_loss_list, np.ones(100), 'valid') / 100, \n",
        "         linewidth = 3, label = 'Rolling Averaged Training Loss')\n",
        "plt.ylabel(\"training loss\")\n",
        "plt.xlabel(\"Iterations\")\n",
        "plt.legend()\n",
        "sns.despine()"
      ]
    },
    {
      "cell_type": "code",
      "execution_count": null,
      "id": "7db5385c",
      "metadata": {
        "id": "7db5385c"
      },
      "outputs": [],
      "source": [
        "# Let's visualize our test sequence\n",
        "plt.figure(figsize = (10, 5))\n",
        "plt.plot(test_target_seq, linewidth = 3)\n",
        "plt.title('Test Sequence (tavg)')\n",
        "sns.despine()"
      ]
    },
    {
      "cell_type": "code",
      "execution_count": null,
      "id": "kEMy3DGLVvXj",
      "metadata": {
        "id": "kEMy3DGLVvXj"
      },
      "outputs": [],
      "source": [
        "# Initialize index for prediction\n",
        "pred_start_ind = 0\n",
        "\n",
        "\n",
        "# initialize empty torch tensor array to store decoder output sequence\n",
        "# This should be the same size as the test sequence\n",
        "decoder_output_seq = torch.zeros(testing_sequence_len, num_features)\n",
        "\n",
        "# Convert test sequence to ten  sor\n",
        "test_input_seq = torch.from_numpy(test_input_seq).float()\n",
        "\n",
        "# First n-datapoints in decoder output sequence = First n-datapoints in ground truth test sequence\n",
        "# n = encoder_input_seq_len\n",
        "decoder_output_seq[:encoder_inputseq_len] = test_input_seq[:encoder_inputseq_len]\n",
        "\n",
        "\n"
      ]
    },
    {
      "cell_type": "code",
      "execution_count": null,
      "id": "kecpfoD9lDXp",
      "metadata": {
        "id": "kecpfoD9lDXp"
      },
      "outputs": [],
      "source": [
        "# input_test_seq = decoder_output_seq[pred_start_ind:pred_start_ind + encoder_inputseq_len]\n",
        "# # Add dimension to first dimension to keep the input (sample_size, seq_len, # of features/timestep)\n",
        "# input_test_seq = torch.unsqueeze(input_test_seq, 0)\n",
        "# print(input_test_seq)\n",
        "# decoder_input = input_test_seq[:, -1, :]\n",
        "# print(decoder_input)\n",
        "# decoder_input = torch.unsqueeze(decoder_input, 1)\n",
        "# print(decoder_input, decoder_input.shape)\n"
      ]
    },
    {
      "cell_type": "code",
      "execution_count": null,
      "id": "vGVhP6hDZcQi",
      "metadata": {
        "id": "vGVhP6hDZcQi"
      },
      "outputs": [],
      "source": [
        "\n",
        "\n",
        "# Activate no_grad() since we aren't performing backprop\n",
        "with torch.no_grad():\n",
        "    \n",
        "    # Loop continues until the RNN prediction reaches the end of the testing sequence length\n",
        "    while pred_start_ind + encoder_inputseq_len + decoder_outputseq_len < testing_sequence_len:\n",
        "        \n",
        "        # initialize hidden state for encoder\n",
        "        hidden_state = None\n",
        "        \n",
        "        # Define the input to encoder\n",
        "        input_test_seq = decoder_output_seq[pred_start_ind:pred_start_ind + encoder_inputseq_len]\n",
        "        # Add dimension to first dimension to keep the input (sample_size, seq_len, # of features/timestep)\n",
        "        input_test_seq = torch.unsqueeze(input_test_seq, 0)\n",
        "      \n",
        "        \n",
        "        # Feed the input to encoder and set resulting hidden states as input hidden states to decoder\n",
        "        encoder_output, encoder_hidden = Encoder_Decoder_RNN.Encoder(input_test_seq, hidden_state)\n",
        "        decoder_hidden = encoder_hidden\n",
        "        print(f\"decoder_input.shape: {decoder_input.shape}\")\n",
        "        print(f\"decoder_hidden.shape: {decoder_hidden[0].shape} \\n\")\n",
        "        # Initial input to decoder is last timestep feature from the encoder input sequence \n",
        "        decoder_input = input_test_seq[:, -1, :]\n",
        "\n",
        "        print(f\"decoder_input.shape: {decoder_input.shape}\")\n",
        "        print(f\"decoder_hidden.shape: {decoder_hidden[0].shape} \\n\")\n",
        "        \n",
        "        # Add dimension to keep the input (sample_size, seq_len, # of features/timestep)\n",
        "        decoder_input = torch.unsqueeze(decoder_input, 1)\n",
        "\n",
        "       \n",
        "        \n",
        "        # Populate decoder output sequence\n",
        "        for t in range(decoder_outputseq_len):\n",
        "\n",
        "           \n",
        "            #print(decoder_input.shape, decoder_hidden[0].shape)\n",
        "            # if t<10:\n",
        "            #   print(f\"decoder_input.shape: {decoder_input.shape}\")\n",
        "            #   print(f\"decoder_hidden.shape: {decoder_hidden[0].shape}\")\n",
        "            # Generate new output for timestep t\n",
        "            decoder_output, decoder_hidden = Encoder_Decoder_RNN.Decoder(decoder_input, decoder_hidden)\n",
        "            \n",
        "            print(t)\n",
        "            # Populate the corresponding timestep in decoder output sequence\n",
        "            decoder_output_seq[pred_start_ind + encoder_inputseq_len + t] = torch.squeeze(decoder_output)\n",
        "            # Use the output of the decoder as new input for the next timestep\n",
        "            decoder_input = decoder_output\n",
        "        \n",
        "        # Update pred_start_ind\n",
        "        pred_start_ind += decoder_outputseq_len"
      ]
    },
    {
      "cell_type": "code",
      "execution_count": null,
      "id": "ylMnO6oUj29y",
      "metadata": {
        "id": "ylMnO6oUj29y"
      },
      "outputs": [],
      "source": [
        "t = np.arange(8).reshape((2, 4))\n",
        "print(t)\n",
        "decoder_input = t[:, -1]\n",
        "print(decoder_input, decoder_input.shape)\n"
      ]
    },
    {
      "cell_type": "code",
      "execution_count": null,
      "id": "uPsE69x4Zemo",
      "metadata": {
        "id": "uPsE69x4Zemo"
      },
      "outputs": [],
      "source": [
        "# Compare the RNN prediction (decoder output sequence) vs the ground truth sequence\n",
        "plt.figure(figsize = (10, 5))\n",
        "\n",
        "plt.plot(test_input_seq[:, 0], linewidth = 3, label = 'GroundTruth')\n",
        "plt.plot(decoder_output_seq[:, 0], linewidth = 3, label = 'RNN Predicted')\n",
        "plt.title('RNN Predicted vs GroundTruth')\n",
        "plt.legend()\n",
        "sns.despine()"
      ]
    },
    {
      "cell_type": "code",
      "execution_count": null,
      "id": "dqOeDgzyaIEj",
      "metadata": {
        "id": "dqOeDgzyaIEj"
      },
      "outputs": [],
      "source": [
        "# Save model\n",
        "\n",
        "torch.save(Encoder_Decoder_RNN.state_dict(), f'model: {datetime.datetime.now().strftime(\"%Y-%m-%d %H:%M\")}.pth')"
      ]
    }
  ],
  "metadata": {
    "accelerator": "GPU",
    "colab": {
      "provenance": [],
      "toc_visible": true
    },
    "gpuClass": "standard",
    "kernelspec": {
      "display_name": "Python 3 (ipykernel)",
      "language": "python",
      "name": "python3"
    },
    "language_info": {
      "codemirror_mode": {
        "name": "ipython",
        "version": 3
      },
      "file_extension": ".py",
      "mimetype": "text/x-python",
      "name": "python",
      "nbconvert_exporter": "python",
      "pygments_lexer": "ipython3",
      "version": "3.8.16"
    }
  },
  "nbformat": 4,
  "nbformat_minor": 5
}
